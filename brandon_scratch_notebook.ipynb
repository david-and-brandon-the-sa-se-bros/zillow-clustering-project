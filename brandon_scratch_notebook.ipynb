{
 "cells": [
  {
   "cell_type": "code",
   "execution_count": 6,
   "metadata": {},
   "outputs": [],
   "source": [
    "import env\n",
    "import utilities as utils\n",
    "\n",
    "import pandas as pd\n",
    "import matplotlib.pyplot as plt\n",
    "import seaborn as sns\n",
    "from scipy import stats\n",
    "\n",
    "from wrangle_zillow import wrangle_zillow_data\n",
    "from sklearn.preprocessing import RobustScaler\n",
    "from sklearn.cluster import KMeans"
   ]
  },
  {
   "cell_type": "code",
   "execution_count": 7,
   "metadata": {},
   "outputs": [],
   "source": [
    "_zillow_query = \"\"\"\n",
    "SELECT prop.*, \n",
    "       pred.logerror, \n",
    "       pred.transactiondate, \n",
    "       air.airconditioningdesc, \n",
    "       arch.architecturalstyledesc, \n",
    "       build.buildingclassdesc, \n",
    "       heat.heatingorsystemdesc, \n",
    "       landuse.propertylandusedesc, \n",
    "       story.storydesc, \n",
    "       construct.typeconstructiondesc \n",
    "FROM   properties_2017 prop  \n",
    "       INNER JOIN (SELECT parcelid,\n",
    "       \t\t\t\t\t  logerror,\n",
    "                          Max(transactiondate) transactiondate \n",
    "                   FROM   predictions_2017 \n",
    "                   GROUP  BY parcelid, logerror) pred\n",
    "               USING (parcelid) \n",
    "       LEFT JOIN airconditioningtype air USING (airconditioningtypeid) \n",
    "       LEFT JOIN architecturalstyletype arch USING (architecturalstyletypeid) \n",
    "       LEFT JOIN buildingclasstype build USING (buildingclasstypeid) \n",
    "       LEFT JOIN heatingorsystemtype heat USING (heatingorsystemtypeid) \n",
    "       LEFT JOIN propertylandusetype landuse USING (propertylandusetypeid) \n",
    "       LEFT JOIN storytype story USING (storytypeid) \n",
    "       LEFT JOIN typeconstructiontype construct USING (typeconstructiontypeid) \n",
    "WHERE  prop.latitude IS NOT NULL \n",
    "       AND prop.longitude IS NOT NULL\n",
    "\"\"\"\n"
   ]
  },
  {
   "cell_type": "code",
   "execution_count": 8,
   "metadata": {},
   "outputs": [],
   "source": [
    "zillow_df = utils.generate_df(\"zillow.csv\", _zillow_query, utils.generate_db_url(env.user, env.password, env.host, \"zillow\"))"
   ]
  },
  {
   "cell_type": "code",
   "execution_count": null,
   "metadata": {},
   "outputs": [],
   "source": [
    "zillow_df.head(5)"
   ]
  },
  {
   "cell_type": "code",
   "execution_count": null,
   "metadata": {},
   "outputs": [],
   "source": [
    "zillow_df.sample(15)"
   ]
  },
  {
   "cell_type": "code",
   "execution_count": null,
   "metadata": {},
   "outputs": [],
   "source": [
    "zillow_df.info()"
   ]
  },
  {
   "cell_type": "code",
   "execution_count": null,
   "metadata": {},
   "outputs": [],
   "source": [
    "zillow_df.describe()"
   ]
  },
  {
   "cell_type": "code",
   "execution_count": null,
   "metadata": {
    "jupyter": {
     "source_hidden": true
    }
   },
   "outputs": [],
   "source": [
    "#Prepare \n",
    "def drop_unnecessary_columns(zillow_df):\n",
    "    \"\"\"\n",
    "    Takes in the zillow data frame and removes any columns deemed unnecessary or those that do not meet the population thresholds. Returns a       copy of the data frame without those columns.\n",
    "    \"\"\"\n",
    "    df = zillow_df.copy()\n",
    "    \n",
    "    df = utils.handle_missing_values(df, .6, .4)\n",
    "    drop_cols = ['id', 'parcelid', 'finishedsquarefeet12', 'fullbathcnt', 'propertylandusetypeid', 'heatingorsystemtypeid', 'censustractandblock', 'rawcensustractandblock', 'regionidzip', 'assessmentyear', 'regionidcounty', 'yearbuilt', 'roomcnt']\n",
    "    \n",
    "    return df.drop(columns=drop_cols)\n",
    "\n",
    "def handle_missing_zillow_values(zillow_df):\n",
    "    \"\"\"\n",
    "    Takes in the zillow data frame and fills the NaN values with either the mode or the median of the column. Returns a copy of the data frame     with the filled in values.\n",
    "    \"\"\"\n",
    "    df = zillow_df.copy()\n",
    "    \n",
    "    df['buildingqualitytypeid'].fillna(value=8.0, inplace=True)    \n",
    "    df['calculatedbathnbr'].fillna(value=2.0, inplace=True)\n",
    "    df['calculatedfinishedsquarefeet'].fillna(value=1542, inplace=True)\n",
    "    df['lotsizesquarefeet'].fillna(value=7205, inplace=True)\n",
    "    df['propertyzoningdesc'].fillna(value=\"LAR1\", inplace=True)\n",
    "    df['regionidcity'].fillna(value=12447, inplace=True)\n",
    "    df['regionidzip'].fillna(value=97319, inplace=True)\n",
    "    df['unitcnt'].fillna(value=1, inplace=True)\n",
    "    df['yearbuilt'].fillna(value=1970, inplace=True)\n",
    "    df['structuretaxvaluedollarcnt'].fillna(value=136399.0, inplace=True)\n",
    "    df['heatingorsystemdesc'].fillna(value='Central', inplace=True)\n",
    "    df['taxamount'].fillna(value=4447.63, inplace=True)\n",
    "    df['taxvaluedollarcnt'].fillna(value=358879, inplace=True)\n",
    "    df['landtaxvaluedollarcnt'].fillna(value=203174, inplace=True)\n",
    "    \n",
    "    return df\n",
    "\n",
    "def rename_zillow_columns(zillow_df):\n",
    "    \"\"\"\n",
    "    Takes in the zillow data frame and renames the columns. Returns a copy of the data frame with the renamed columns.\n",
    "    \"\"\"\n",
    "    df = zillow_df.copy()\n",
    "    \n",
    "    rename_dict = {'bathroomcnt' : 'bathrooms', 'bedroomcnt' : 'bedrooms', 'buildingqualitytypeid' : 'build_quality', 'calculatedbathnbr' : 'fractional_bathrooms', 'calculatedfinishedsquarefeet' : 'sqft', 'lotsizesquarefeet' : 'lot_size', 'propertycountylandusecode' : 'land_use_code', 'propertyzoningdesc' : 'zoning_desc', 'regionidcity' : 'city_id', 'unitcnt' : 'units', 'structuretaxvaluedollarcnt' : 'structure_tax_value', 'taxvaluedollarcnt' : 'tax_value', 'landtaxvaluedollarcnt' : 'land_tax_value', 'taxamount' : 'tax_amount', 'logerror' : 'error', 'transactiondate' : 'transaction_date', 'heatingorsystemdesc' : 'heat_system_desc', 'propertylandusedesc' : 'property_land_use_desc'}\n",
    "    \n",
    "    return df.rename(columns=rename_dict)\n",
    "\n",
    "def encode_zillow_categoricals(zillow_df):\n",
    "    \"\"\"\n",
    "    Takes in the zillow data frame and encodes the categorical variables. Returns a copy of the data frame with the encoded columns.\n",
    "    \"\"\"\n",
    "    df = zillow_df.copy()\n",
    "\n",
    "    fips_dummies = pd.get_dummies(df.fips, dummy_na=False, drop_first=True)\n",
    "    heat_dummies = pd.get_dummies(df.heat_system_desc, dummy_na=False, drop_first=True)\n",
    "    prop_use_dummies = pd.get_dummies(df.property_land_use_desc, dummy_na=False, drop_first=True)\n",
    "    \n",
    "    return pd.concat([df, fips_dummies, heat_dummies, prop_use_dummies], axis=1)\n",
    "\n",
    "def add_zillow_features(zillow_df):\n",
    "    \"\"\"\n",
    "    Takes in the zillow data frame and adds engineered features. Returns a copy of the dataframe with the new features.\n",
    "    \"\"\"\n",
    "    df = zillow_df.copy()\n",
    "    \n",
    "    df['age'] = 2017 - df['yearbuilt']\n",
    "    \n",
    "    return df\n",
    "\n",
    "def remove_zillow_outliers(zillow_df):\n",
    "    \"\"\"\n",
    "    Takes in the zillow data frame and removes outliers above the determined upper bound. Returns a copy of the data frame with the outliers       removed.\n",
    "    \"\"\"\n",
    "    df = zillow_df.copy()\n",
    "    cont_vars = ['bathrooms', 'bedrooms', 'fractional_bathrooms', 'sqft', 'lot_size', 'structure_tax_value', 'tax_value', 'land_tax_value', 'tax_amount', 'error']\n",
    "\n",
    "    for var in cont_vars:\n",
    "        upper_bound, lower_bound = utils.generate_outlier_bounds(df, var, 3)  \n",
    "        df = df[(df[var] > lower_bound) & (df[var] < upper_bound)]\n",
    "    \n",
    "    return df\n",
    "    "
   ]
  },
  {
   "cell_type": "code",
   "execution_count": null,
   "metadata": {},
   "outputs": [],
   "source": [
    "utils.show_missing_value_stats_by_col(zillow_df)"
   ]
  },
  {
   "cell_type": "code",
   "execution_count": null,
   "metadata": {},
   "outputs": [],
   "source": [
    "utils.show_missing_value_stats_by_row(zillow_df)"
   ]
  },
  {
   "cell_type": "code",
   "execution_count": null,
   "metadata": {},
   "outputs": [],
   "source": [
    "drop_missing_zillow = utils.handle_missing_values(zillow_df.copy(), .6, .4)\n",
    "drop_missing_zillow.head()"
   ]
  },
  {
   "cell_type": "code",
   "execution_count": null,
   "metadata": {},
   "outputs": [],
   "source": [
    "drop_missing_zillow.info()"
   ]
  },
  {
   "cell_type": "code",
   "execution_count": null,
   "metadata": {},
   "outputs": [],
   "source": [
    "drop_missing_zillow.shape"
   ]
  },
  {
   "cell_type": "code",
   "execution_count": null,
   "metadata": {},
   "outputs": [],
   "source": [
    "utils.show_missing_value_stats_by_col(drop_missing_zillow)"
   ]
  },
  {
   "cell_type": "code",
   "execution_count": null,
   "metadata": {},
   "outputs": [],
   "source": [
    "drop_missing_zillow['buildingqualitytypeid'].value_counts()"
   ]
  },
  {
   "cell_type": "code",
   "execution_count": null,
   "metadata": {},
   "outputs": [],
   "source": [
    "drop_missing_zillow['buildingqualitytypeid'].fillna(value=8.0, inplace=True)\n"
   ]
  },
  {
   "cell_type": "code",
   "execution_count": null,
   "metadata": {},
   "outputs": [],
   "source": [
    "drop_missing_zillow['buildingqualitytypeid'].value_counts()\n"
   ]
  },
  {
   "cell_type": "code",
   "execution_count": null,
   "metadata": {},
   "outputs": [],
   "source": [
    "drop_missing_zillow['calculatedbathnbr'].median()\n"
   ]
  },
  {
   "cell_type": "code",
   "execution_count": null,
   "metadata": {},
   "outputs": [],
   "source": [
    "drop_missing_zillow['calculatedbathnbr'].fillna(value=2.0, inplace=True)\n",
    "\n"
   ]
  },
  {
   "cell_type": "code",
   "execution_count": null,
   "metadata": {},
   "outputs": [],
   "source": [
    "drop_missing_zillow['calculatedfinishedsquarefeet'].median()\n"
   ]
  },
  {
   "cell_type": "code",
   "execution_count": null,
   "metadata": {},
   "outputs": [],
   "source": [
    "drop_missing_zillow['calculatedfinishedsquarefeet'].fillna(value=1542, inplace=True)\n"
   ]
  },
  {
   "cell_type": "code",
   "execution_count": null,
   "metadata": {},
   "outputs": [],
   "source": [
    "utils.show_missing_value_stats_by_col(drop_missing_zillow)\n"
   ]
  },
  {
   "cell_type": "code",
   "execution_count": null,
   "metadata": {},
   "outputs": [],
   "source": [
    "drop_cols = ['finishedsquarefeet12', 'fullbathcnt', 'propertylandusetypeid', 'heatingorsystemtypeid', 'censustractandblock']\n",
    "drop_missing_zillow.drop(columns=drop_cols, inplace=True)"
   ]
  },
  {
   "cell_type": "code",
   "execution_count": null,
   "metadata": {},
   "outputs": [],
   "source": [
    "utils.show_missing_value_stats_by_col(drop_missing_zillow)"
   ]
  },
  {
   "cell_type": "code",
   "execution_count": null,
   "metadata": {},
   "outputs": [],
   "source": [
    "drop_missing_zillow['lotsizesquarefeet'].median()"
   ]
  },
  {
   "cell_type": "code",
   "execution_count": null,
   "metadata": {},
   "outputs": [],
   "source": [
    "drop_missing_zillow['lotsizesquarefeet'].fillna(value=7205, inplace=True)"
   ]
  },
  {
   "cell_type": "code",
   "execution_count": null,
   "metadata": {},
   "outputs": [],
   "source": [
    "drop_missing_zillow['propertyzoningdesc'].mode()"
   ]
  },
  {
   "cell_type": "code",
   "execution_count": null,
   "metadata": {},
   "outputs": [],
   "source": [
    "drop_missing_zillow['propertyzoningdesc'].fillna(value='LAR1', inplace=True)"
   ]
  },
  {
   "cell_type": "code",
   "execution_count": null,
   "metadata": {},
   "outputs": [],
   "source": [
    "drop_missing_zillow['regionidcity'].value_counts()"
   ]
  },
  {
   "cell_type": "code",
   "execution_count": null,
   "metadata": {},
   "outputs": [],
   "source": [
    "drop_missing_zillow['regionidcity'].fillna(value=12447, inplace=True)"
   ]
  },
  {
   "cell_type": "code",
   "execution_count": null,
   "metadata": {},
   "outputs": [],
   "source": [
    "utils.show_missing_value_stats_by_col(drop_missing_zillow)"
   ]
  },
  {
   "cell_type": "code",
   "execution_count": null,
   "metadata": {},
   "outputs": [],
   "source": [
    "drop_missing_zillow['regionidzip'].value_counts()"
   ]
  },
  {
   "cell_type": "code",
   "execution_count": null,
   "metadata": {},
   "outputs": [],
   "source": [
    "drop_missing_zillow['regionidzip'].fillna(value=97319, inplace=True)"
   ]
  },
  {
   "cell_type": "code",
   "execution_count": null,
   "metadata": {},
   "outputs": [],
   "source": [
    "drop_missing_zillow['unitcnt'].value_counts()"
   ]
  },
  {
   "cell_type": "code",
   "execution_count": null,
   "metadata": {},
   "outputs": [],
   "source": [
    "drop_missing_zillow['unitcnt'].fillna(value=1, inplace=True)"
   ]
  },
  {
   "cell_type": "code",
   "execution_count": null,
   "metadata": {},
   "outputs": [],
   "source": [
    "utils.show_missing_value_stats_by_col(drop_missing_zillow)"
   ]
  },
  {
   "cell_type": "code",
   "execution_count": null,
   "metadata": {},
   "outputs": [],
   "source": [
    "drop_missing_zillow['yearbuilt'].median()"
   ]
  },
  {
   "cell_type": "code",
   "execution_count": null,
   "metadata": {},
   "outputs": [],
   "source": [
    "drop_missing_zillow['yearbuilt'].fillna(value=1970, inplace=True)"
   ]
  },
  {
   "cell_type": "code",
   "execution_count": null,
   "metadata": {},
   "outputs": [],
   "source": [
    "drop_missing_zillow['structuretaxvaluedollarcnt'].fillna(value=136399.0, inplace=True)\n",
    "\n",
    "drop_missing_zillow['heatingorsystemdesc'].fillna(value='Central', inplace=True)"
   ]
  },
  {
   "cell_type": "code",
   "execution_count": null,
   "metadata": {},
   "outputs": [],
   "source": [
    "utils.show_missing_value_stats_by_col(drop_missing_zillow)"
   ]
  },
  {
   "cell_type": "code",
   "execution_count": null,
   "metadata": {},
   "outputs": [],
   "source": [
    "utils.show_missing_value_stats_by_row(drop_missing_zillow)"
   ]
  },
  {
   "cell_type": "code",
   "execution_count": null,
   "metadata": {},
   "outputs": [],
   "source": [
    "drop_missing_zillow['taxamount'].fillna(value=4447.63, inplace=True)"
   ]
  },
  {
   "cell_type": "code",
   "execution_count": null,
   "metadata": {},
   "outputs": [],
   "source": [
    "train, validate, test = wrangle_zillow_data()"
   ]
  },
  {
   "cell_type": "code",
   "execution_count": null,
   "metadata": {},
   "outputs": [],
   "source": [
    "cat_vars = ['build_quality', 'fips', 'latitude', 'longitude', 'land_use_code', 'zoning_desc', 'city_id', 'county_id', 'transaction_date', 'heat_system_desc', 'property_land_use_desc']\n",
    "cont_vars = ['bathrooms', 'bedrooms', 'fractional_bathrooms', 'sqft', 'lot_size', 'rooms', 'units', 'age', 'structure_tax_value', 'tax_value', 'land_tax_value', 'tax_amount', 'error']"
   ]
  },
  {
   "cell_type": "code",
   "execution_count": null,
   "metadata": {},
   "outputs": [],
   "source": [
    "\n",
    "train.shape"
   ]
  },
  {
   "cell_type": "code",
   "execution_count": null,
   "metadata": {},
   "outputs": [],
   "source": [
    "\n",
    "utils.generate_outlier_bounds(train, 'error', 3)\n"
   ]
  },
  {
   "cell_type": "code",
   "execution_count": null,
   "metadata": {},
   "outputs": [],
   "source": [
    "scale_vars = ['bathrooms', 'bedrooms', 'fractional_bathrooms', 'sqft', 'lot_size', 'units', 'age', 'structure_tax_value', 'tax_value', 'land_tax_value', 'tax_amount']\n",
    "train_scaled, validate_scaled, test_scaled = utils.generate_scaled_splits(train[scale_vars],validate[scale_vars], test[scale_vars], RobustScaler())"
   ]
  },
  {
   "cell_type": "code",
   "execution_count": null,
   "metadata": {},
   "outputs": [],
   "source": [
    "train_scaled.head(5)"
   ]
  },
  {
   "cell_type": "code",
   "execution_count": null,
   "metadata": {},
   "outputs": [],
   "source": [
    "train.head(5)"
   ]
  },
  {
   "cell_type": "code",
   "execution_count": null,
   "metadata": {
    "jupyter": {
     "source_hidden": true
    }
   },
   "outputs": [],
   "source": [
    "# Credit to @magsguist\n",
    "def explore_univariate(train, cat_vars, quant_vars):\n",
    "    for var in cat_vars:\n",
    "        _explore_univariate_categorical(train, var)\n",
    "        print('_________________________________________________________________')\n",
    "    for col in quant_vars:\n",
    "        p, descriptive_stats = _explore_univariate_quant(train, col)\n",
    "        plt.show(p)\n",
    "        print(descriptive_stats)\n",
    "\n",
    "def explore_bivariate_categorical(target, cat_vars, train):\n",
    "    \"\"\"\n",
    "    Takes in a target and plots it against categorial variables. Outputs boxplots and barplots and gives the mean of the target\n",
    "    by each categorical variable.\n",
    "    \"\"\"\n",
    "    for var in cat_vars:\n",
    "        _print_header(var, target)\n",
    "\n",
    "        sns.boxplot(x=var, y=target, data=train)\n",
    "        plt.show()\n",
    "\n",
    "        print()\n",
    "\n",
    "        sns.barplot(x=var, y=target, data=train)\n",
    "        plt.show()\n",
    "        \n",
    "        print(\"-------------------------------\")\n",
    "        print(f\"Mean {target} by {var}:  \")\n",
    "        print(train.groupby(var)[target].mean())\n",
    "        print()\n",
    "\n",
    "def explore_bivariate_continuous(target, cont_vars, train):\n",
    "    \"\"\"\n",
    "    Takes in a target and plots it against continuous variables. Outputs a relplot and calculates the corrleation value between\n",
    "    the target and each continuous variable.\n",
    "    \"\"\"\n",
    "    for var in cont_vars:\n",
    "        _print_header(var, target)\n",
    "        \n",
    "        sns.relplot(x=var, y=target, data=train)\n",
    "        plt.show()\n",
    "        corr, p = stats.pearsonr(train[var], train[target])\n",
    "        \n",
    "        print(\"-------------------------------\")\n",
    "        print(f\"Correlation between {var} and {target}:  {corr}\")\n",
    "        print(f\"P value:  {p}\")\n",
    "        print()\n",
    "\n",
    "def explore_multivariate_(cont_vars, cat_vars, target, train):\n",
    "    \"\"\"\n",
    "    Takes in a target and continuous and categorical variables. Outputs a relplot of each continuous variable against the target\n",
    "    with each categorical varible as the hue.\n",
    "    \"\"\"\n",
    "    for cont_var in cont_vars:\n",
    "        _print_header(cont_var, target)\n",
    "        \n",
    "        for cat_var in cat_vars:\n",
    "            sns.relplot(x=cont_var, y=target, hue=cat_var, data=train)\n",
    "            plt.title(f\"By {cat_var}\")\n",
    "            plt.show()\n",
    "            print()\n",
    "\n",
    "def _print_header(var, target):\n",
    "    print(f\"{var} vs {target}\")\n",
    "    print(\"-------------------------------\")\n",
    "\n",
    "@DeprecationWarning\n",
    "def explore_bivariate(train, target, cat_vars, quant_vars):\n",
    "    for cat in cat_vars:\n",
    "        _explore_bivariate_categorical(train, target, cat)\n",
    "    for quant in quant_vars:\n",
    "        _explore_bivariate_quant(train, target, quant)\n",
    "\n",
    "@DeprecationWarning\n",
    "def explore_multivariate(train, target, cat_vars, quant_vars):\n",
    "    '''\n",
    "    '''\n",
    "    _plot_swarm_grid_with_color(train, target, cat_vars, quant_vars)\n",
    "    plt.show()\n",
    "    _plot_violin_grid_with_color(train, target, cat_vars, quant_vars)\n",
    "    plt.show()\n",
    "    sns.pairplot(data=train, vars=quant_vars, hue=target)\n",
    "    plt.show()\n",
    "    _plot_all_continuous_vars(train, target, quant_vars)\n",
    "    plt.show()    \n",
    "\n",
    "\n",
    "### Univariate\n",
    "\n",
    "def _explore_univariate_categorical(train, cat_var):\n",
    "    '''\n",
    "    takes in a dataframe and a categorical variable and returns\n",
    "    a frequency table and barplot of the frequencies. \n",
    "    '''\n",
    "    frequency_table = _freq_table(train, cat_var)\n",
    "    plt.figure(figsize=(2,2))\n",
    "    sns.barplot(x=cat_var, y='Count', data=frequency_table, color='lightseagreen')\n",
    "    plt.title(cat_var)\n",
    "    plt.show()\n",
    "    print(frequency_table)\n",
    "\n",
    "def _explore_univariate_quant(train, quant_var):\n",
    "    '''\n",
    "    takes in a dataframe and a quantitative variable and returns\n",
    "    descriptive stats table, histogram, and boxplot of the distributions. \n",
    "    '''\n",
    "    descriptive_stats = train[quant_var].describe()\n",
    "    plt.figure(figsize=(8,2))\n",
    "\n",
    "    p = plt.subplot(1, 2, 1)\n",
    "    p = plt.hist(train[quant_var], color='lightseagreen')\n",
    "    p = plt.title(quant_var)\n",
    "\n",
    "    # second plot: box plot\n",
    "    p = plt.subplot(1, 2, 2)\n",
    "    p = plt.boxplot(train[quant_var])\n",
    "    p = plt.title(quant_var)\n",
    "    return p, descriptive_stats\n",
    "    \n",
    "def _freq_table(train, cat_var):\n",
    "    '''\n",
    "    for a given categorical variable, compute the frequency count and percent split\n",
    "    and return a dataframe of those values along with the different classes. \n",
    "    '''\n",
    "    class_labels = list(train[cat_var].unique())\n",
    "\n",
    "    frequency_table = (\n",
    "        pd.DataFrame({cat_var: class_labels,\n",
    "                      'Count': train[cat_var].value_counts(normalize=False), \n",
    "                      'Percent': round(train[cat_var].value_counts(normalize=True)*100,2)}\n",
    "                    )\n",
    "    )\n",
    "    return frequency_table\n",
    "\n",
    "\n",
    "#### Bivariate\n",
    "\n",
    "def _explore_bivariate_categorical(train, target, cat_var):\n",
    "    '''\n",
    "    takes in categorical variable and binary target variable, \n",
    "    returns a crosstab of frequencies\n",
    "    runs a chi-square test for the proportions\n",
    "    and creates a barplot, adding a horizontal line of the overall rate of the target. \n",
    "    '''\n",
    "    print(cat_var, \"\\n_____________________\\n\")\n",
    "    ct = pd.crosstab(train[cat_var], train[target], margins=True)\n",
    "    chi2_summary, observed, expected = _run_chi2(train, cat_var, target)\n",
    "    p = _plot_cat_by_target(train, target, cat_var)\n",
    "    \n",
    "    print(chi2_summary)\n",
    "    print(\"\\nobserved:\\n\", ct)\n",
    "    print(\"\\nexpected:\\n\", expected)\n",
    "    plt.show(p)\n",
    "    print(\"\\n_____________________\\n\")\n",
    "\n",
    "def _explore_bivariate_quant(train, target, quant_var):\n",
    "    '''\n",
    "    descriptive stats by each target class. \n",
    "    compare means across 2 target groups \n",
    "    boxenplot of target x quant\n",
    "    swarmplot of target x quant\n",
    "    '''\n",
    "    print(quant_var, \"\\n____________________\\n\")\n",
    "    descriptive_stats = train.groupby(target)[quant_var].describe()\n",
    "    average = train[quant_var].mean()\n",
    "    mann_whitney = _compare_means(train, target, quant_var)\n",
    "    plt.figure(figsize=(4,4))\n",
    "    boxen = _plot_boxen(train, target, quant_var)\n",
    "    swarm = _plot_swarm(train, target, quant_var)\n",
    "    plt.show()\n",
    "    print(descriptive_stats, \"\\n\")\n",
    "    print(\"\\nMann-Whitney Test:\\n\", mann_whitney)\n",
    "    print(\"\\n____________________\\n\")\n",
    "\n",
    "## Bivariate Categorical\n",
    "\n",
    "def _run_chi2(train, cat_var, target):\n",
    "    observed = pd.crosstab(train[cat_var], train[target])\n",
    "    chi2, p, degf, expected = stats.chi2_contingency(observed)\n",
    "    chi2_summary = pd.DataFrame({'chi2': [chi2], 'p-value': [p], \n",
    "                                 'degrees of freedom': [degf]})\n",
    "    expected = pd.DataFrame(expected)\n",
    "    return chi2_summary, observed, expected\n",
    "\n",
    "def _plot_cat_by_target(train, target, cat_var):\n",
    "    p = plt.figure(figsize=(2,2))\n",
    "    p = sns.barplot(cat_var, target, data=train, alpha=.8, color='lightseagreen')\n",
    "    overall_rate = train[target].mean()\n",
    "    p = plt.axhline(overall_rate, ls='--', color='gray')\n",
    "    return p\n",
    "    \n",
    "\n",
    "## Bivariate Quant\n",
    "\n",
    "def _plot_swarm(train, target, quant_var):\n",
    "    average = train[quant_var].mean()\n",
    "    p = sns.swarmplot(data=train, x=target, y=quant_var, color='lightgray')\n",
    "    p = plt.title(quant_var)\n",
    "    p = plt.axhline(average, ls='--', color='black')\n",
    "    return p\n",
    "\n",
    "def _plot_boxen(train, target, quant_var):\n",
    "    average = train[quant_var].mean()\n",
    "    p = sns.boxenplot(data=train, x=target, y=quant_var, color='lightseagreen')\n",
    "    p = plt.title(quant_var)\n",
    "    p = plt.axhline(average, ls='--', color='black')\n",
    "    return p\n",
    "\n",
    "# alt_hyp = ‘two-sided’, ‘less’, ‘greater’\n",
    "\n",
    "def _compare_means(train, target, quant_var, alt_hyp='two-sided'):\n",
    "    x = train[train[target]==0][quant_var]\n",
    "    y = train[train[target]==1][quant_var]\n",
    "    return stats.mannwhitneyu(x, y, use_continuity=True, alternative=alt_hyp)\n",
    "\n",
    "\n",
    "### Multivariate\n",
    "\n",
    "def _plot_all_continuous_vars(train, target, quant_vars):\n",
    "    '''\n",
    "    Melt the dataset to \"long-form\" representation\n",
    "    boxenplot of measurement x value with color representing survived. \n",
    "    '''\n",
    "    my_vars = [item for sublist in [quant_vars, [target]] for item in sublist]\n",
    "    sns.set(style=\"whitegrid\", palette=\"muted\")\n",
    "    melt = train[my_vars].melt(id_vars=target, var_name=\"measurement\")\n",
    "    plt.figure(figsize=(8,6))\n",
    "    p = sns.boxenplot(x=\"measurement\", y=\"value\", hue=target, data=melt)\n",
    "    p.set(yscale=\"log\", xlabel='')    \n",
    "    plt.show()\n",
    "\n",
    "def _plot_violin_grid_with_color(train, target, cat_vars, quant_vars):\n",
    "    cols = len(cat_vars)\n",
    "    for quant in quant_vars:\n",
    "        _, ax = plt.subplots(nrows=1, ncols=cols, figsize=(16, 4), sharey=True)\n",
    "        for i, cat in enumerate(cat_vars):\n",
    "            sns.violinplot(x=cat, y=quant, data=train, split=True, \n",
    "                           ax=ax[i], hue=target, palette=\"Set2\")\n",
    "            ax[i].set_xlabel('')\n",
    "            ax[i].set_ylabel(quant)\n",
    "            ax[i].set_title(cat)\n",
    "        plt.show()\n",
    "    \n",
    "def _plot_swarm_grid_with_color(train, target, cat_vars, quant_vars):\n",
    "    cols = len(cat_vars)\n",
    "    for quant in quant_vars:\n",
    "        _, ax = plt.subplots(nrows=1, ncols=cols, figsize=(16, 4), sharey=True)\n",
    "        for i, cat in enumerate(cat_vars):\n",
    "            sns.swarmplot(x=cat, y=quant, data=train, ax=ax[i], hue=target, palette=\"Set2\")\n",
    "            ax[i].set_xlabel('')\n",
    "            ax[i].set_ylabel(quant)\n",
    "            ax[i].set_title(cat)\n",
    "        plt.show()\n",
    "\n"
   ]
  },
  {
   "cell_type": "code",
   "execution_count": null,
   "metadata": {
    "jupyter": {
     "source_hidden": true
    }
   },
   "outputs": [],
   "source": [
    "train.error.describe()"
   ]
  },
  {
   "cell_type": "code",
   "execution_count": null,
   "metadata": {
    "jupyter": {
     "source_hidden": true
    }
   },
   "outputs": [],
   "source": [
    "for col in train.columns:\n",
    "    plt.figure(figsize=(4,2))\n",
    "    plt.hist(train[col])\n",
    "    plt.title(col)\n",
    "    plt.show()"
   ]
  },
  {
   "cell_type": "code",
   "execution_count": null,
   "metadata": {},
   "outputs": [],
   "source": [
    "train.info()"
   ]
  },
  {
   "cell_type": "code",
   "execution_count": null,
   "metadata": {},
   "outputs": [],
   "source": [
    "train.hist(figsize=[20,20])"
   ]
  },
  {
   "cell_type": "code",
   "execution_count": null,
   "metadata": {},
   "outputs": [],
   "source": [
    "train.shape, validate.shape, test.shape"
   ]
  },
  {
   "cell_type": "code",
   "execution_count": null,
   "metadata": {},
   "outputs": [],
   "source": [
    "#correlation heatmap\n",
    "corr = pd.DataFrame(train.corr()['error'].sort_values(ascending = False)).rename(columns = {'error':'correlation'})\n",
    "\n",
    "plt.figure(figsize = (4,8))\n",
    "sns.heatmap(corr, annot = True, fmt = '.2f', vmin = -0.05, vmax = 0.05, cmap = 'magma')\n",
    "plt.title('Correlation heatmap', fontsize = 15)\n",
    "plt.show()"
   ]
  },
  {
   "cell_type": "code",
   "execution_count": null,
   "metadata": {},
   "outputs": [],
   "source": [
    "sns.catplot(data=train, x='bedrooms',y='error', palette='flare',order=[1.0,2.0,3.0,4.0,5.0,6.0,7.0])"
   ]
  },
  {
   "cell_type": "code",
   "execution_count": null,
   "metadata": {},
   "outputs": [],
   "source": [
    "sns.catplot(data=train, x='bathrooms',y='error', palette='crest',order=[1.0,2.0,3.0,4.0,5.0,])"
   ]
  },
  {
   "cell_type": "code",
   "execution_count": null,
   "metadata": {},
   "outputs": [],
   "source": [
    "X_train = train_scaled\n",
    "y_train = zillow_df[['error']]"
   ]
  },
  {
   "cell_type": "code",
   "execution_count": 3,
   "metadata": {},
   "outputs": [],
   "source": [
    "train, validate, test = wrangle_zillow_data()"
   ]
  },
  {
   "cell_type": "code",
   "execution_count": 10,
   "metadata": {},
   "outputs": [],
   "source": [
    "cat_vars = ['build_quality', 'fips', 'latitude', 'longitude', 'land_use_code', 'zoning_desc', 'city_id', 'county_id', 'transaction_date', 'heat_system_desc', 'property_land_use_desc']\n",
    "cont_vars = ['bathrooms', 'bedrooms', 'fractional_bathrooms', 'sqft', 'lot_size', 'rooms', 'units', 'age', 'structure_tax_value', 'tax_value', 'land_tax_value', 'tax_amount', 'error']"
   ]
  },
  {
   "cell_type": "code",
   "execution_count": 12,
   "metadata": {},
   "outputs": [
    {
     "data": {
      "text/plain": [
       "(12018, 45)"
      ]
     },
     "execution_count": 12,
     "metadata": {},
     "output_type": "execute_result"
    }
   ],
   "source": [
    "test.shape"
   ]
  },
  {
   "cell_type": "code",
   "execution_count": 14,
   "metadata": {},
   "outputs": [],
   "source": [
    "cat_vars = ['build_quality', 'fips']\n",
    "quant_vars = ['bathrooms', 'bedrooms', 'sqft', 'lot_size', 'structure_tax_value', 'tax_value', 'land_tax_value', 'tax_amount', 'age']"
   ]
  },
  {
   "cell_type": "code",
   "execution_count": 15,
   "metadata": {},
   "outputs": [
    {
     "data": {
      "image/png": "[encoded data removed]",
      "text/plain": [
       "<Figure size 144x144 with 1 Axes>"
      ]
     },
     "metadata": {
      "needs_background": "light"
     },
     "output_type": "display_data"
    },
    {
     "name": "stdout",
     "output_type": "stream",
     "text": [
      "      build_quality  Count  Percent\n",
      "8.0             8.0  19052    56.62\n",
      "6.0             7.0   5823    17.31\n",
      "4.0             4.0   4776    14.19\n",
      "7.0             6.0   2087     6.20\n",
      "5.0             5.0   1002     2.98\n",
      "9.0             9.0    593     1.76\n",
      "3.0             3.0    149     0.44\n",
      "11.0           11.0    130     0.39\n",
      "10.0           12.0     22     0.07\n",
      "1.0             2.0      8     0.02\n",
      "12.0           10.0      4     0.01\n",
      "2.0             1.0      3     0.01\n",
      "_________________________________________________________________\n"
     ]
    },
    {
     "data": {
      "image/png": "[encoded data removed]",
      "text/plain": [
       "<Figure size 144x144 with 1 Axes>"
      ]
     },
     "metadata": {
      "needs_background": "light"
     },
     "output_type": "display_data"
    },
    {
     "name": "stdout",
     "output_type": "stream",
     "text": [
      "          fips  Count  Percent\n",
      "6037.0  6059.0  20269    60.24\n",
      "6059.0  6037.0  10314    30.65\n",
      "6111.0  6111.0   3066     9.11\n",
      "_________________________________________________________________\n"
     ]
    },
    {
     "data": {
      "image/png": "[encoded data removed]",
      "text/plain": [
       "<Figure size 576x144 with 2 Axes>"
      ]
     },
     "metadata": {
      "needs_background": "light"
     },
     "output_type": "display_data"
    },
    {
     "name": "stdout",
     "output_type": "stream",
     "text": [
      "count    33649.000000\n",
      "mean         2.196291\n",
      "std          0.821414\n",
      "min          0.000000\n",
      "25%          2.000000\n",
      "50%          2.000000\n",
      "75%          3.000000\n",
      "max          5.500000\n",
      "Name: bathrooms, dtype: float64\n"
     ]
    },
    {
     "data": {
      "image/png": "[encoded data removed]",
      "text/plain": [
       "<Figure size 576x144 with 2 Axes>"
      ]
     },
     "metadata": {
      "needs_background": "light"
     },
     "output_type": "display_data"
    },
    {
     "name": "stdout",
     "output_type": "stream",
     "text": [
      "count    33649.000000\n",
      "mean         3.095991\n",
      "std          1.035450\n",
      "min          0.000000\n",
      "25%          2.000000\n",
      "50%          3.000000\n",
      "75%          4.000000\n",
      "max          9.000000\n",
      "Name: bedrooms, dtype: float64\n"
     ]
    },
    {
     "data": {
      "image/png": "[encoded data removed]",
      "text/plain": [
       "<Figure size 576x144 with 2 Axes>"
      ]
     },
     "metadata": {
      "needs_background": "light"
     },
     "output_type": "display_data"
    },
    {
     "name": "stdout",
     "output_type": "stream",
     "text": [
      "count    33649.000000\n",
      "mean      1704.768463\n",
      "std        695.296744\n",
      "min        152.000000\n",
      "25%       1208.000000\n",
      "50%       1542.000000\n",
      "75%       2058.000000\n",
      "max       4793.000000\n",
      "Name: sqft, dtype: float64\n"
     ]
    },
    {
     "data": {
      "image/png": "[encoded data removed]",
      "text/plain": [
       "<Figure size 576x144 with 2 Axes>"
      ]
     },
     "metadata": {
      "needs_background": "light"
     },
     "output_type": "display_data"
    },
    {
     "name": "stdout",
     "output_type": "stream",
     "text": [
      "count    33649.000000\n",
      "mean      7386.990282\n",
      "std       3519.984121\n",
      "min        236.000000\n",
      "25%       5601.000000\n",
      "50%       7040.000000\n",
      "75%       7890.000000\n",
      "max      23134.000000\n",
      "Name: lot_size, dtype: float64\n"
     ]
    },
    {
     "data": {
      "image/png": "[encoded data removed]",
      "text/plain": [
       "<Figure size 576x144 with 2 Axes>"
      ]
     },
     "metadata": {
      "needs_background": "light"
     },
     "output_type": "display_data"
    },
    {
     "name": "stdout",
     "output_type": "stream",
     "text": [
      "count     33649.000000\n",
      "mean     155468.024310\n",
      "std      105660.369843\n",
      "min          44.000000\n",
      "25%       79674.000000\n",
      "50%      128990.000000\n",
      "75%      203070.000000\n",
      "max      608096.000000\n",
      "Name: structure_tax_value, dtype: float64\n"
     ]
    },
    {
     "data": {
      "image/png": "[encoded data removed]",
      "text/plain": [
       "<Figure size 576x144 with 2 Axes>"
      ]
     },
     "metadata": {
      "needs_background": "light"
     },
     "output_type": "display_data"
    },
    {
     "name": "stdout",
     "output_type": "stream",
     "text": [
      "count    3.364900e+04\n",
      "mean     4.022785e+05\n",
      "std      2.691370e+05\n",
      "min      9.242000e+03\n",
      "25%      2.028420e+05\n",
      "50%      3.530240e+05\n",
      "75%      5.395490e+05\n",
      "max      1.592248e+06\n",
      "Name: tax_value, dtype: float64\n"
     ]
    },
    {
     "data": {
      "image/png": "[encoded data removed]",
      "text/plain": [
       "<Figure size 576x144 with 2 Axes>"
      ]
     },
     "metadata": {
      "needs_background": "light"
     },
     "output_type": "display_data"
    },
    {
     "name": "stdout",
     "output_type": "stream",
     "text": [
      "count    3.364900e+04\n",
      "mean     2.469234e+05\n",
      "std      2.036831e+05\n",
      "min      1.627000e+03\n",
      "25%      8.564000e+04\n",
      "50%      2.033720e+05\n",
      "75%      3.500000e+05\n",
      "max      1.152511e+06\n",
      "Name: land_tax_value, dtype: float64\n"
     ]
    },
    {
     "data": {
      "image/png": "[encoded data removed]",
      "text/plain": [
       "<Figure size 576x144 with 2 Axes>"
      ]
     },
     "metadata": {
      "needs_background": "light"
     },
     "output_type": "display_data"
    },
    {
     "name": "stdout",
     "output_type": "stream",
     "text": [
      "count    33649.000000\n",
      "mean      4975.687311\n",
      "std       3147.832687\n",
      "min         49.180000\n",
      "25%       2679.930000\n",
      "50%       4385.900000\n",
      "75%       6562.920000\n",
      "max      18213.060000\n",
      "Name: tax_amount, dtype: float64\n"
     ]
    },
    {
     "data": {
      "image/png": "[encoded data removed]",
      "text/plain": [
       "<Figure size 576x144 with 2 Axes>"
      ]
     },
     "metadata": {
      "needs_background": "light"
     },
     "output_type": "display_data"
    },
    {
     "name": "stdout",
     "output_type": "stream",
     "text": [
      "count    33649.000000\n",
      "mean        49.968825\n",
      "std         23.765071\n",
      "min          1.000000\n",
      "25%         31.000000\n",
      "50%         52.000000\n",
      "75%         65.000000\n",
      "max        139.000000\n",
      "Name: age, dtype: float64\n"
     ]
    }
   ],
   "source": [
    "utils.explore_univariate(train, cat_vars, quant_vars)"
   ]
  },
  {
   "cell_type": "code",
   "execution_count": 16,
   "metadata": {},
   "outputs": [
    {
     "data": {
      "text/plain": [
       "(array([  215.,  5757.,   754., 14200.,  3483.,  7164.,   429.,  1255.,\n",
       "          150.,   242.]),\n",
       " array([0.  , 0.55, 1.1 , 1.65, 2.2 , 2.75, 3.3 , 3.85, 4.4 , 4.95, 5.5 ]),\n",
       " <BarContainer object of 10 artists>)"
      ]
     },
     "execution_count": 16,
     "metadata": {},
     "output_type": "execute_result"
    },
    {
     "data": {
      "image/png": "[encoded data removed]",
      "text/plain": [
       "<Figure size 432x288 with 1 Axes>"
      ]
     },
     "metadata": {
      "needs_background": "light"
     },
     "output_type": "display_data"
    }
   ],
   "source": [
    "plt.hist(x='bathrooms', data=train)"
   ]
  },
  {
   "cell_type": "code",
   "execution_count": null,
   "metadata": {},
   "outputs": [],
   "source": [
    "#Do properties with 2 bathrooms have a statistically different error than the population mean?"
   ]
  },
  {
   "cell_type": "code",
   "execution_count": 22,
   "metadata": {},
   "outputs": [
    {
     "name": "stdout",
     "output_type": "stream",
     "text": [
      "------------------------------------------\n",
      "t:  -3.027958281588745, p:  0.0024665396972895735, a:  0.05\n",
      "\n",
      "We reject the null hypothesis. We move forward with the alternative hypothesis:  \n",
      "------------------------------------------\n"
     ]
    },
    {
     "data": {
      "text/plain": [
       "{'t': -3.027958281588745,\n",
       " 'p': 0.0024665396972895735,\n",
       " 'a': 0.05,\n",
       " 'message': 'We reject the null hypothesis. We move forward with the alternative hypothesis:  ',\n",
       " 'reject_null': True}"
      ]
     },
     "execution_count": 22,
     "metadata": {},
     "output_type": "execute_result"
    }
   ],
   "source": [
    "baths_2 = train[train.bathrooms == 2]\n",
    "\n",
    "t, p = stats.ttest_1samp(baths_2.error, train.error.mean())\n",
    "utils.evaluate_hypothesis_ttest(p, t, .05)"
   ]
  },
  {
   "cell_type": "code",
   "execution_count": 21,
   "metadata": {},
   "outputs": [
    {
     "data": {
      "text/plain": [
       "(array([  265.,   989.,  7669., 14157.,  8280.,  1763.,   364.,    57.,\n",
       "           84.,    21.]),\n",
       " array([0. , 0.9, 1.8, 2.7, 3.6, 4.5, 5.4, 6.3, 7.2, 8.1, 9. ]),\n",
       " <BarContainer object of 10 artists>)"
      ]
     },
     "execution_count": 21,
     "metadata": {},
     "output_type": "execute_result"
    },
    {
     "data": {
      "image/png": "[encoded data removed]",
      "text/plain": [
       "<Figure size 432x288 with 1 Axes>"
      ]
     },
     "metadata": {
      "needs_background": "light"
     },
     "output_type": "display_data"
    }
   ],
   "source": [
    "plt.hist(x='bedrooms', data=train)"
   ]
  },
  {
   "cell_type": "code",
   "execution_count": null,
   "metadata": {},
   "outputs": [],
   "source": [
    "#Do properties with 3 bedrooms have a statistically different error than the population mean?"
   ]
  },
  {
   "cell_type": "code",
   "execution_count": 27,
   "metadata": {},
   "outputs": [
    {
     "name": "stdout",
     "output_type": "stream",
     "text": [
      "------------------------------------------\n",
      "t:  -0.6872046338010408, p:  0.49196504252577833, a:  0.05\n",
      "\n",
      "We fail to reject the null hypothesis:  \n",
      "------------------------------------------\n"
     ]
    },
    {
     "data": {
      "text/plain": [
       "{'t': -0.6872046338010408,\n",
       " 'p': 0.49196504252577833,\n",
       " 'a': 0.05,\n",
       " 'message': 'We fail to reject the null hypothesis:  ',\n",
       " 'reject_null': False}"
      ]
     },
     "execution_count": 27,
     "metadata": {},
     "output_type": "execute_result"
    }
   ],
   "source": [
    "beds_3 = train[train.bedrooms == 3]\n",
    "\n",
    "t, p = stats.ttest_1samp(beds_3.error, train.error.mean())\n",
    "utils.evaluate_hypothesis_ttest(p, t, .05)"
   ]
  },
  {
   "cell_type": "code",
   "execution_count": 25,
   "metadata": {},
   "outputs": [
    {
     "data": {
      "text/plain": [
       "(array([20269.,     0., 10314.,     0.,     0.,     0.,     0.,     0.,\n",
       "            0.,  3066.]),\n",
       " array([6037. , 6044.4, 6051.8, 6059.2, 6066.6, 6074. , 6081.4, 6088.8,\n",
       "        6096.2, 6103.6, 6111. ]),\n",
       " <BarContainer object of 10 artists>)"
      ]
     },
     "execution_count": 25,
     "metadata": {},
     "output_type": "execute_result"
    },
    {
     "data": {
      "image/png": "[encoded data removed]",
      "text/plain": [
       "<Figure size 432x288 with 1 Axes>"
      ]
     },
     "metadata": {
      "needs_background": "light"
     },
     "output_type": "display_data"
    }
   ],
   "source": [
    "plt.hist(x='fips', data=train)\n"
   ]
  },
  {
   "cell_type": "code",
   "execution_count": 26,
   "metadata": {},
   "outputs": [],
   "source": [
    "#Do properties in fips code 6059 have a statistically different error than the population mean?"
   ]
  },
  {
   "cell_type": "code",
   "execution_count": 28,
   "metadata": {},
   "outputs": [
    {
     "name": "stdout",
     "output_type": "stream",
     "text": [
      "------------------------------------------\n",
      "t:  2.0092662655179483, p:  0.04453490999014401, a:  0.05\n",
      "\n",
      "We reject the null hypothesis. We move forward with the alternative hypothesis:  \n",
      "------------------------------------------\n"
     ]
    },
    {
     "data": {
      "text/plain": [
       "{'t': 2.0092662655179483,\n",
       " 'p': 0.04453490999014401,\n",
       " 'a': 0.05,\n",
       " 'message': 'We reject the null hypothesis. We move forward with the alternative hypothesis:  ',\n",
       " 'reject_null': True}"
      ]
     },
     "execution_count": 28,
     "metadata": {},
     "output_type": "execute_result"
    }
   ],
   "source": [
    "fips_6059 = train[train.fips == 6059]\n",
    "\n",
    "t, p = stats.ttest_1samp(fips_6059.error, train.error.mean())\n",
    "utils.evaluate_hypothesis_ttest(p, t, .05)"
   ]
  },
  {
   "cell_type": "code",
   "execution_count": 29,
   "metadata": {},
   "outputs": [],
   "source": [
    "#Do properties in fips code 6037 have a statistically different error than the population mean?"
   ]
  },
  {
   "cell_type": "code",
   "execution_count": 30,
   "metadata": {},
   "outputs": [
    {
     "name": "stdout",
     "output_type": "stream",
     "text": [
      "------------------------------------------\n",
      "t:  -2.037933263568385, p:  0.04156956419908872, a:  0.05\n",
      "\n",
      "We reject the null hypothesis. We move forward with the alternative hypothesis:  \n",
      "------------------------------------------\n"
     ]
    },
    {
     "data": {
      "text/plain": [
       "{'t': -2.037933263568385,\n",
       " 'p': 0.04156956419908872,\n",
       " 'a': 0.05,\n",
       " 'message': 'We reject the null hypothesis. We move forward with the alternative hypothesis:  ',\n",
       " 'reject_null': True}"
      ]
     },
     "execution_count": 30,
     "metadata": {},
     "output_type": "execute_result"
    }
   ],
   "source": [
    "fips_6037 = train[train.fips == 6037]\n",
    "\n",
    "t, p = stats.ttest_1samp(fips_6037.error, train.error.mean())\n",
    "utils.evaluate_hypothesis_ttest(p, t, .05)"
   ]
  },
  {
   "cell_type": "code",
   "execution_count": 35,
   "metadata": {},
   "outputs": [
    {
     "data": {
      "text/plain": [
       "(array([ 5234., 10430.,  7776.,  4486.,  2443.,  1458.,   857.,   470.,\n",
       "          311.,   184.]),\n",
       " array([4.400000e+01, 6.084920e+04, 1.216544e+05, 1.824596e+05,\n",
       "        2.432648e+05, 3.040700e+05, 3.648752e+05, 4.256804e+05,\n",
       "        4.864856e+05, 5.472908e+05, 6.080960e+05]),\n",
       " <BarContainer object of 10 artists>)"
      ]
     },
     "execution_count": 35,
     "metadata": {},
     "output_type": "execute_result"
    },
    {
     "data": {
      "image/png": "[encoded data removed]",
      "text/plain": [
       "<Figure size 432x288 with 1 Axes>"
      ]
     },
     "metadata": {
      "needs_background": "light"
     },
     "output_type": "display_data"
    }
   ],
   "source": [
    "plt.hist(x='structure_tax_value', data=train)\n"
   ]
  },
  {
   "cell_type": "code",
   "execution_count": 31,
   "metadata": {},
   "outputs": [],
   "source": [
    "# Do properties with a structure_tax_value of 130_000 have a have a statistically different error than the population mean?"
   ]
  },
  {
   "cell_type": "code",
   "execution_count": 34,
   "metadata": {},
   "outputs": [
    {
     "name": "stdout",
     "output_type": "stream",
     "text": [
      "------------------------------------------\n",
      "t:  0.19610965882594972, p:  0.8478061395059269, a:  0.05\n",
      "\n",
      "We fail to reject the null hypothesis:  \n",
      "------------------------------------------\n"
     ]
    },
    {
     "data": {
      "text/plain": [
       "{'t': 0.19610965882594972,\n",
       " 'p': 0.8478061395059269,\n",
       " 'a': 0.05,\n",
       " 'message': 'We fail to reject the null hypothesis:  ',\n",
       " 'reject_null': False}"
      ]
     },
     "execution_count": 34,
     "metadata": {},
     "output_type": "execute_result"
    }
   ],
   "source": [
    "stv_130k = train[train.structure_tax_value == 130_000]\n",
    "\n",
    "t, p = stats.ttest_1samp(stv_130k.error, train.error.mean())\n",
    "utils.evaluate_hypothesis_ttest(p, t, .05)"
   ]
  },
  {
   "cell_type": "code",
   "execution_count": null,
   "metadata": {},
   "outputs": [],
   "source": [
    "#Takeaways "
   ]
  },
  {
   "cell_type": "code",
   "execution_count": null,
   "metadata": {},
   "outputs": [],
   "source": []
  },
  {
   "cell_type": "code",
   "execution_count": null,
   "metadata": {},
   "outputs": [],
   "source": []
  },
  {
   "cell_type": "code",
   "execution_count": null,
   "metadata": {},
   "outputs": [],
   "source": []
  }
 ],
 "metadata": {
  "kernelspec": {
   "display_name": "Python 3",
   "language": "python",
   "name": "python3"
  },
  "language_info": {
   "codemirror_mode": {
    "name": "ipython",
    "version": 3
   },
   "file_extension": ".py",
   "mimetype": "text/x-python",
   "name": "python",
   "nbconvert_exporter": "python",
   "pygments_lexer": "ipython3",
   "version": "3.8.5"
  }
 },
 "nbformat": 4,
 "nbformat_minor": 4
}
