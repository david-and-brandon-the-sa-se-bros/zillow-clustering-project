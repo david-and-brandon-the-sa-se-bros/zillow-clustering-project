{
 "cells": [
  {
   "cell_type": "code",
   "execution_count": 1,
   "id": "white-webster",
   "metadata": {},
   "outputs": [],
   "source": [
    "import env\n",
    "import acquire\n",
    "import utilities as utils\n",
    "\n",
    "from wrangle_zillow import wrangle_zillow_data"
   ]
  },
  {
   "cell_type": "code",
   "execution_count": 2,
   "id": "national-consultation",
   "metadata": {},
   "outputs": [
    {
     "ename": "TypeError",
     "evalue": "'module' object is not callable",
     "output_type": "error",
     "traceback": [
      "\u001b[0;31m---------------------------------------------------------------------------\u001b[0m",
      "\u001b[0;31mTypeError\u001b[0m                                 Traceback (most recent call last)",
      "\u001b[0;32m<ipython-input-2-6e0a84ca3350>\u001b[0m in \u001b[0;36m<module>\u001b[0;34m\u001b[0m\n\u001b[0;32m----> 1\u001b[0;31m \u001b[0mzillow_df\u001b[0m \u001b[0;34m=\u001b[0m \u001b[0macquire\u001b[0m\u001b[0;34m.\u001b[0m\u001b[0macquire_zillow\u001b[0m\u001b[0;34m(\u001b[0m\u001b[0;34m)\u001b[0m\u001b[0;34m;\u001b[0m\u001b[0;34m\u001b[0m\u001b[0;34m\u001b[0m\u001b[0m\n\u001b[0m",
      "\u001b[0;31mTypeError\u001b[0m: 'module' object is not callable"
     ]
    }
   ],
   "source": [
    "zillow_df = acquire.acquire_zillow();"
   ]
  },
  {
   "cell_type": "code",
   "execution_count": null,
   "id": "advisory-alfred",
   "metadata": {},
   "outputs": [],
   "source": [
    "zillow_df.sample(14)"
   ]
  },
  {
   "cell_type": "code",
   "execution_count": null,
   "id": "neural-equivalent",
   "metadata": {},
   "outputs": [],
   "source": [
    "zillow_df.info()"
   ]
  },
  {
   "cell_type": "code",
   "execution_count": null,
   "id": "conventional-looking",
   "metadata": {},
   "outputs": [],
   "source": [
    "utils.show_missing_value_stats_by_col(zillow_df)"
   ]
  },
  {
   "cell_type": "code",
   "execution_count": null,
   "id": "governmental-space",
   "metadata": {},
   "outputs": [],
   "source": [
    "utils.show_missing_value_stats_by_row(zillow_df)"
   ]
  },
  {
   "cell_type": "code",
   "execution_count": null,
   "id": "valuable-taylor",
   "metadata": {},
   "outputs": [],
   "source": [
    "drop_missing_zillow = utils.handle_missing_values(zillow_df.copy(), .6, .4)\n",
    "drop_missing_zillow.head()"
   ]
  },
  {
   "cell_type": "code",
   "execution_count": null,
   "id": "prime-register",
   "metadata": {},
   "outputs": [],
   "source": [
    "drop_missing_zillow.info()"
   ]
  },
  {
   "cell_type": "code",
   "execution_count": null,
   "id": "sustainable-seminar",
   "metadata": {},
   "outputs": [],
   "source": [
    "drop_missing_zillow.shape"
   ]
  },
  {
   "cell_type": "code",
   "execution_count": null,
   "id": "anticipated-procurement",
   "metadata": {},
   "outputs": [],
   "source": [
    "utils.show_missing_value_stats_by_col(drop_missing_zillow)"
   ]
  },
  {
   "cell_type": "code",
   "execution_count": null,
   "id": "controlling-correlation",
   "metadata": {},
   "outputs": [],
   "source": [
    "drop_missing_zillow['buildingqualitytypeid'].value_counts()"
   ]
  },
  {
   "cell_type": "code",
   "execution_count": null,
   "id": "excited-locator",
   "metadata": {},
   "outputs": [],
   "source": [
    "drop_missing_zillow['buildingqualitytypeid'].fillna(value=8.0, inplace=True)"
   ]
  },
  {
   "cell_type": "code",
   "execution_count": null,
   "id": "settled-drunk",
   "metadata": {},
   "outputs": [],
   "source": [
    "drop_missing_zillow['buildingqualitytypeid'].value_counts()"
   ]
  },
  {
   "cell_type": "code",
   "execution_count": null,
   "id": "decent-pearl",
   "metadata": {},
   "outputs": [],
   "source": [
    "drop_missing_zillow['calculatedbathnbr'].median()"
   ]
  },
  {
   "cell_type": "code",
   "execution_count": null,
   "id": "sound-employment",
   "metadata": {},
   "outputs": [],
   "source": [
    "drop_missing_zillow['calculatedbathnbr'].fillna(value=2.0, inplace=True)"
   ]
  },
  {
   "cell_type": "code",
   "execution_count": null,
   "id": "recorded-tuition",
   "metadata": {},
   "outputs": [],
   "source": [
    "drop_missing_zillow['calculatedfinishedsquarefeet'].median()"
   ]
  },
  {
   "cell_type": "code",
   "execution_count": null,
   "id": "organized-birmingham",
   "metadata": {},
   "outputs": [],
   "source": [
    "drop_missing_zillow['calculatedfinishedsquarefeet'].fillna(value=1542, inplace=True)"
   ]
  },
  {
   "cell_type": "code",
   "execution_count": null,
   "id": "economic-replication",
   "metadata": {},
   "outputs": [],
   "source": [
    "utils.show_missing_value_stats_by_col(drop_missing_zillow)"
   ]
  },
  {
   "cell_type": "code",
   "execution_count": null,
   "id": "broadband-whole",
   "metadata": {},
   "outputs": [],
   "source": [
    "drop_cols = ['finishedsquarefeet12', 'fullbathcnt', 'propertylandusetypeid', 'heatingorsystemtypeid', 'censustractandblock']\n",
    "drop_missing_zillow.drop(columns=drop_cols, inplace=True)"
   ]
  },
  {
   "cell_type": "code",
   "execution_count": null,
   "id": "surface-nutrition",
   "metadata": {},
   "outputs": [],
   "source": [
    "utils.show_missing_value_stats_by_col(drop_missing_zillow)"
   ]
  },
  {
   "cell_type": "code",
   "execution_count": null,
   "id": "north-manitoba",
   "metadata": {},
   "outputs": [],
   "source": [
    "drop_missing_zillow['lotsizesquarefeet'].median()"
   ]
  },
  {
   "cell_type": "code",
   "execution_count": null,
   "id": "dirty-listening",
   "metadata": {},
   "outputs": [],
   "source": [
    "drop_missing_zillow['lotsizesquarefeet'].fillna(value=7205, inplace=True)"
   ]
  },
  {
   "cell_type": "code",
   "execution_count": null,
   "id": "insured-italy",
   "metadata": {},
   "outputs": [],
   "source": [
    "drop_missing_zillow['propertyzoningdesc'].mode()"
   ]
  },
  {
   "cell_type": "code",
   "execution_count": null,
   "id": "checked-temperature",
   "metadata": {},
   "outputs": [],
   "source": [
    "drop_missing_zillow['propertyzoningdesc'].fillna(value='LAR1', inplace=True)"
   ]
  },
  {
   "cell_type": "code",
   "execution_count": null,
   "id": "resident-beads",
   "metadata": {},
   "outputs": [],
   "source": [
    "drop_missing_zillow['regionidcity'].value_counts()"
   ]
  },
  {
   "cell_type": "code",
   "execution_count": null,
   "id": "limited-community",
   "metadata": {},
   "outputs": [],
   "source": [
    "drop_missing_zillow['regionidcity'].fillna(value=12447, inplace=True)"
   ]
  },
  {
   "cell_type": "code",
   "execution_count": null,
   "id": "crucial-camping",
   "metadata": {},
   "outputs": [],
   "source": [
    "utils.show_missing_value_stats_by_col(drop_missing_zillow)"
   ]
  },
  {
   "cell_type": "code",
   "execution_count": null,
   "id": "challenging-broadcasting",
   "metadata": {},
   "outputs": [],
   "source": [
    "drop_missing_zillow['regionidzip'].value_counts()"
   ]
  },
  {
   "cell_type": "code",
   "execution_count": null,
   "id": "civic-kelly",
   "metadata": {},
   "outputs": [],
   "source": [
    "drop_missing_zillow['regionidzip'].fillna(value=97319, inplace=True)"
   ]
  },
  {
   "cell_type": "code",
   "execution_count": null,
   "id": "upper-insertion",
   "metadata": {},
   "outputs": [],
   "source": [
    "drop_missing_zillow['unitcnt'].value_counts()"
   ]
  },
  {
   "cell_type": "code",
   "execution_count": null,
   "id": "unknown-invitation",
   "metadata": {},
   "outputs": [],
   "source": [
    "drop_missing_zillow['unitcnt'].fillna(value=1, inplace=True)"
   ]
  },
  {
   "cell_type": "code",
   "execution_count": null,
   "id": "collaborative-stevens",
   "metadata": {},
   "outputs": [],
   "source": [
    "utils.show_missing_value_stats_by_col(drop_missing_zillow)"
   ]
  },
  {
   "cell_type": "code",
   "execution_count": null,
   "id": "arctic-honduras",
   "metadata": {},
   "outputs": [],
   "source": [
    "drop_missing_zillow['yearbuilt'].median()"
   ]
  },
  {
   "cell_type": "code",
   "execution_count": null,
   "id": "healthy-welcome",
   "metadata": {},
   "outputs": [],
   "source": [
    "drop_missing_zillow['yearbuilt'].fillna(value=1970, inplace=True)"
   ]
  },
  {
   "cell_type": "code",
   "execution_count": null,
   "id": "dutch-functionality",
   "metadata": {},
   "outputs": [],
   "source": [
    "drop_missing_zillow['structuretaxvaluedollarcnt'].fillna(value=136399.0, inplace=True)\n",
    "\n",
    "drop_missing_zillow['heatingorsystemdesc'].fillna(value='Central', inplace=True)"
   ]
  },
  {
   "cell_type": "code",
   "execution_count": null,
   "id": "religious-graphic",
   "metadata": {},
   "outputs": [],
   "source": [
    "utils.show_missing_value_stats_by_col(drop_missing_zillow)"
   ]
  },
  {
   "cell_type": "code",
   "execution_count": null,
   "id": "indonesian-contemporary",
   "metadata": {},
   "outputs": [],
   "source": [
    "utils.show_missing_value_stats_by_row(drop_missing_zillow)"
   ]
  },
  {
   "cell_type": "code",
   "execution_count": null,
   "id": "first-member",
   "metadata": {},
   "outputs": [],
   "source": [
    "drop_missing_zillow['taxamount'].fillna(value=4447.63, inplace=True)"
   ]
  },
  {
   "cell_type": "code",
   "execution_count": 2,
   "id": "referenced-independence",
   "metadata": {},
   "outputs": [],
   "source": [
    "zillow_df = wrangle_zillow_data()"
   ]
  },
  {
   "cell_type": "code",
   "execution_count": 3,
   "id": "equivalent-hartford",
   "metadata": {},
   "outputs": [
    {
     "data": {
      "text/html": [
       "<div>\n",
       "<style scoped>\n",
       "    .dataframe tbody tr th:only-of-type {\n",
       "        vertical-align: middle;\n",
       "    }\n",
       "\n",
       "    .dataframe tbody tr th {\n",
       "        vertical-align: top;\n",
       "    }\n",
       "\n",
       "    .dataframe thead th {\n",
       "        text-align: right;\n",
       "    }\n",
       "</style>\n",
       "<table border=\"1\" class=\"dataframe\">\n",
       "  <thead>\n",
       "    <tr style=\"text-align: right;\">\n",
       "      <th></th>\n",
       "      <th>num_rows_missing</th>\n",
       "      <th>pct_rows_missing</th>\n",
       "    </tr>\n",
       "  </thead>\n",
       "  <tbody>\n",
       "    <tr>\n",
       "      <th>bathroomcnt</th>\n",
       "      <td>0</td>\n",
       "      <td>0.0</td>\n",
       "    </tr>\n",
       "    <tr>\n",
       "      <th>bedroomcnt</th>\n",
       "      <td>0</td>\n",
       "      <td>0.0</td>\n",
       "    </tr>\n",
       "    <tr>\n",
       "      <th>buildingqualitytypeid</th>\n",
       "      <td>0</td>\n",
       "      <td>0.0</td>\n",
       "    </tr>\n",
       "    <tr>\n",
       "      <th>calculatedbathnbr</th>\n",
       "      <td>0</td>\n",
       "      <td>0.0</td>\n",
       "    </tr>\n",
       "    <tr>\n",
       "      <th>calculatedfinishedsquarefeet</th>\n",
       "      <td>0</td>\n",
       "      <td>0.0</td>\n",
       "    </tr>\n",
       "    <tr>\n",
       "      <th>fips</th>\n",
       "      <td>0</td>\n",
       "      <td>0.0</td>\n",
       "    </tr>\n",
       "    <tr>\n",
       "      <th>latitude</th>\n",
       "      <td>0</td>\n",
       "      <td>0.0</td>\n",
       "    </tr>\n",
       "    <tr>\n",
       "      <th>longitude</th>\n",
       "      <td>0</td>\n",
       "      <td>0.0</td>\n",
       "    </tr>\n",
       "    <tr>\n",
       "      <th>lotsizesquarefeet</th>\n",
       "      <td>0</td>\n",
       "      <td>0.0</td>\n",
       "    </tr>\n",
       "    <tr>\n",
       "      <th>propertycountylandusecode</th>\n",
       "      <td>0</td>\n",
       "      <td>0.0</td>\n",
       "    </tr>\n",
       "    <tr>\n",
       "      <th>propertyzoningdesc</th>\n",
       "      <td>0</td>\n",
       "      <td>0.0</td>\n",
       "    </tr>\n",
       "    <tr>\n",
       "      <th>rawcensustractandblock</th>\n",
       "      <td>0</td>\n",
       "      <td>0.0</td>\n",
       "    </tr>\n",
       "    <tr>\n",
       "      <th>regionidcity</th>\n",
       "      <td>0</td>\n",
       "      <td>0.0</td>\n",
       "    </tr>\n",
       "    <tr>\n",
       "      <th>regionidcounty</th>\n",
       "      <td>0</td>\n",
       "      <td>0.0</td>\n",
       "    </tr>\n",
       "    <tr>\n",
       "      <th>regionidzip</th>\n",
       "      <td>0</td>\n",
       "      <td>0.0</td>\n",
       "    </tr>\n",
       "    <tr>\n",
       "      <th>roomcnt</th>\n",
       "      <td>0</td>\n",
       "      <td>0.0</td>\n",
       "    </tr>\n",
       "    <tr>\n",
       "      <th>unitcnt</th>\n",
       "      <td>0</td>\n",
       "      <td>0.0</td>\n",
       "    </tr>\n",
       "    <tr>\n",
       "      <th>yearbuilt</th>\n",
       "      <td>0</td>\n",
       "      <td>0.0</td>\n",
       "    </tr>\n",
       "    <tr>\n",
       "      <th>structuretaxvaluedollarcnt</th>\n",
       "      <td>0</td>\n",
       "      <td>0.0</td>\n",
       "    </tr>\n",
       "    <tr>\n",
       "      <th>taxvaluedollarcnt</th>\n",
       "      <td>0</td>\n",
       "      <td>0.0</td>\n",
       "    </tr>\n",
       "    <tr>\n",
       "      <th>assessmentyear</th>\n",
       "      <td>0</td>\n",
       "      <td>0.0</td>\n",
       "    </tr>\n",
       "    <tr>\n",
       "      <th>landtaxvaluedollarcnt</th>\n",
       "      <td>0</td>\n",
       "      <td>0.0</td>\n",
       "    </tr>\n",
       "    <tr>\n",
       "      <th>taxamount</th>\n",
       "      <td>0</td>\n",
       "      <td>0.0</td>\n",
       "    </tr>\n",
       "    <tr>\n",
       "      <th>logerror</th>\n",
       "      <td>0</td>\n",
       "      <td>0.0</td>\n",
       "    </tr>\n",
       "    <tr>\n",
       "      <th>transactiondate</th>\n",
       "      <td>0</td>\n",
       "      <td>0.0</td>\n",
       "    </tr>\n",
       "    <tr>\n",
       "      <th>heatingorsystemdesc</th>\n",
       "      <td>0</td>\n",
       "      <td>0.0</td>\n",
       "    </tr>\n",
       "    <tr>\n",
       "      <th>propertylandusedesc</th>\n",
       "      <td>0</td>\n",
       "      <td>0.0</td>\n",
       "    </tr>\n",
       "  </tbody>\n",
       "</table>\n",
       "</div>"
      ],
      "text/plain": [
       "                              num_rows_missing  pct_rows_missing\n",
       "bathroomcnt                                  0               0.0\n",
       "bedroomcnt                                   0               0.0\n",
       "buildingqualitytypeid                        0               0.0\n",
       "calculatedbathnbr                            0               0.0\n",
       "calculatedfinishedsquarefeet                 0               0.0\n",
       "fips                                         0               0.0\n",
       "latitude                                     0               0.0\n",
       "longitude                                    0               0.0\n",
       "lotsizesquarefeet                            0               0.0\n",
       "propertycountylandusecode                    0               0.0\n",
       "propertyzoningdesc                           0               0.0\n",
       "rawcensustractandblock                       0               0.0\n",
       "regionidcity                                 0               0.0\n",
       "regionidcounty                               0               0.0\n",
       "regionidzip                                  0               0.0\n",
       "roomcnt                                      0               0.0\n",
       "unitcnt                                      0               0.0\n",
       "yearbuilt                                    0               0.0\n",
       "structuretaxvaluedollarcnt                   0               0.0\n",
       "taxvaluedollarcnt                            0               0.0\n",
       "assessmentyear                               0               0.0\n",
       "landtaxvaluedollarcnt                        0               0.0\n",
       "taxamount                                    0               0.0\n",
       "logerror                                     0               0.0\n",
       "transactiondate                              0               0.0\n",
       "heatingorsystemdesc                          0               0.0\n",
       "propertylandusedesc                          0               0.0"
      ]
     },
     "execution_count": 3,
     "metadata": {},
     "output_type": "execute_result"
    }
   ],
   "source": [
    "utils.show_missing_value_stats_by_col(zillow_df)"
   ]
  },
  {
   "cell_type": "code",
   "execution_count": null,
   "id": "geological-sample",
   "metadata": {},
   "outputs": [],
   "source": []
  }
 ],
 "metadata": {
  "kernelspec": {
   "display_name": "Python 3",
   "language": "python",
   "name": "python3"
  },
  "language_info": {
   "codemirror_mode": {
    "name": "ipython",
    "version": 3
   },
   "file_extension": ".py",
   "mimetype": "text/x-python",
   "name": "python",
   "nbconvert_exporter": "python",
   "pygments_lexer": "ipython3",
   "version": "3.8.5"
  }
 },
 "nbformat": 4,
 "nbformat_minor": 5
}
