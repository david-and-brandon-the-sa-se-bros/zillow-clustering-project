{
 "cells": [
  {
   "cell_type": "code",
   "execution_count": 1,
   "id": "identical-polyester",
   "metadata": {},
   "outputs": [],
   "source": [
    "import env\n",
    "\n",
    "from wrangle_zillow import wrangle_zillow_data"
   ]
  },
  {
   "cell_type": "markdown",
   "id": "blond-booth",
   "metadata": {},
   "source": [
    "# Attention Grabbing Title!\n",
    "\n",
    "## Executive Summary\n",
    "\n",
    "## Planning\n",
    "The Agile Kanban methodology was use to map out the tasks for this project. The Kanban board used can be found [here](https://github.com/orgs/david-and-brandon-the-sa-se-bros/projects/1).\n",
    "\n",
    "Hypotheses:\n",
    "\n",
    "#### [Data Dictionary](www.dictionary.com)\n",
    "\n",
    "## Acquisition\n",
    "Data was obtained from the *zillow* database using this query:\n",
    ">`SELECT prop.*, \n",
    "       pred.logerror, \n",
    "       pred.transactiondate, \n",
    "       air.airconditioningdesc, \n",
    "       arch.architecturalstyledesc, \n",
    "       build.buildingclassdesc, \n",
    "       heat.heatingorsystemdesc, \n",
    "       landuse.propertylandusedesc, \n",
    "       story.storydesc, \n",
    "       construct.typeconstructiondesc \n",
    "FROM   properties_2017 prop  \n",
    "       INNER JOIN (SELECT parcelid,\n",
    "       \t\t\t\t\t  logerror,\n",
    "                          Max(transactiondate) transactiondate \n",
    "                   FROM   predictions_2017 \n",
    "                   GROUP  BY parcelid, logerror) pred\n",
    "               USING (parcelid) \n",
    "       LEFT JOIN airconditioningtype air USING (airconditioningtypeid) \n",
    "       LEFT JOIN architecturalstyletype arch USING (architecturalstyletypeid) \n",
    "       LEFT JOIN buildingclasstype build USING (buildingclasstypeid) \n",
    "       LEFT JOIN heatingorsystemtype heat USING (heatingorsystemtypeid) \n",
    "       LEFT JOIN propertylandusetype landuse USING (propertylandusetypeid) \n",
    "       LEFT JOIN storytype story USING (storytypeid) \n",
    "       LEFT JOIN typeconstructiontype construct USING (typeconstructiontypeid) \n",
    "WHERE  prop.latitude IS NOT NULL \n",
    "       AND prop.longitude IS NOT NULL`\n",
    "       \n",
    "## Preparation\n",
    "A large portion of the preparation phase involved dealing with missing data. The following preparation tasks were scripted into the `wrangle_zillow_data` function:\n",
    "1. Populate missing values with the mode (for categorical variables) or the median (for continuous variables) of the column\n",
    "2. Rename remaining columns to more appropriate names or better format\n",
    "3. Add engineered features\n",
    "4. Encode categorical variables\n",
    "5. Drop columns with less than 60% of values populated\n",
    "6. Drop rows with less than 40% of values populated\n",
    "7. Drop columns deemed redundant or unnecessary\n",
    "8. Split the data frame into train, validate, and test samples"
   ]
  },
  {
   "cell_type": "code",
   "execution_count": 2,
   "id": "juvenile-integrity",
   "metadata": {},
   "outputs": [],
   "source": [
    "train, validate, test = wrangle_zillow_data()"
   ]
  },
  {
   "cell_type": "code",
   "execution_count": null,
   "id": "junior-consensus",
   "metadata": {},
   "outputs": [],
   "source": []
  }
 ],
 "metadata": {
  "kernelspec": {
   "display_name": "Python 3",
   "language": "python",
   "name": "python3"
  },
  "language_info": {
   "codemirror_mode": {
    "name": "ipython",
    "version": 3
   },
   "file_extension": ".py",
   "mimetype": "text/x-python",
   "name": "python",
   "nbconvert_exporter": "python",
   "pygments_lexer": "ipython3",
   "version": "3.8.5"
  }
 },
 "nbformat": 4,
 "nbformat_minor": 5
}
